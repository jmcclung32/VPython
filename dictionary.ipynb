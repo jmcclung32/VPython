{
 "cells": [
  {
   "cell_type": "markdown",
   "metadata": {},
   "source": [
    "# Example of Python Dictionary\n",
    "\n",
    "I call these \"associative arrays\" because you associate a value with a key.  Each dictionary item is a key-value pair. In our case, we want the value of each item to be the sphere representing a marker.\n",
    "\n",
    "Here's a [tutorial](https://www.pythonforbeginners.com/dictionary/how-to-use-dictionaries-in-python/).\n"
   ]
  },
  {
   "cell_type": "code",
   "execution_count": 1,
   "metadata": {},
   "outputs": [
    {
     "data": {
      "application/javascript": [
       "require.undef(\"nbextensions/vpython_libraries/glow.min\");"
      ],
      "text/plain": [
       "<IPython.core.display.Javascript object>"
      ]
     },
     "metadata": {},
     "output_type": "display_data"
    },
    {
     "data": {
      "application/javascript": [
       "require.undef(\"nbextensions/vpython_libraries/glowcomm\");"
      ],
      "text/plain": [
       "<IPython.core.display.Javascript object>"
      ]
     },
     "metadata": {},
     "output_type": "display_data"
    },
    {
     "data": {
      "application/javascript": [
       "require.undef(\"nbextensions/vpython_libraries/jquery-ui.custom.min\");"
      ],
      "text/plain": [
       "<IPython.core.display.Javascript object>"
      ]
     },
     "metadata": {},
     "output_type": "display_data"
    },
    {
     "data": {
      "application/javascript": [
       "require([\"nbextensions/vpython_libraries/glow.min\"], function(){console.log(\"GLOW LOADED\");})"
      ],
      "text/plain": [
       "<IPython.core.display.Javascript object>"
      ]
     },
     "metadata": {},
     "output_type": "display_data"
    },
    {
     "data": {
      "application/javascript": [
       "require([\"nbextensions/vpython_libraries/glowcomm\"], function(){console.log(\"GLOWCOMM LOADED\");})"
      ],
      "text/plain": [
       "<IPython.core.display.Javascript object>"
      ]
     },
     "metadata": {},
     "output_type": "display_data"
    },
    {
     "data": {
      "application/javascript": [
       "require([\"nbextensions/vpython_libraries/jquery-ui.custom.min\"], function(){console.log(\"JQUERY LOADED\");})"
      ],
      "text/plain": [
       "<IPython.core.display.Javascript object>"
      ]
     },
     "metadata": {},
     "output_type": "display_data"
    },
    {
     "data": {
      "text/html": [
       "<div id=\"glowscript\" class=\"glowscript\"></div>"
      ],
      "text/plain": [
       "<IPython.core.display.HTML object>"
      ]
     },
     "metadata": {},
     "output_type": "display_data"
    },
    {
     "data": {
      "application/javascript": [
       "window.__context = { glowscript_container: $(\"#glowscript\").removeAttr(\"id\")}"
      ],
      "text/plain": [
       "<IPython.core.display.Javascript object>"
      ]
     },
     "metadata": {},
     "output_type": "display_data"
    }
   ],
   "source": [
    "from vpython import *"
   ]
  },
  {
   "cell_type": "code",
   "execution_count": 6,
   "metadata": {},
   "outputs": [],
   "source": [
    "scene=display()\n",
    "\n",
    "m1 = sphere(pos=vec(1,2,3), radius=0.2, color=color.yellow)\n",
    "m2 = sphere(pos=vec(3,2,1), radius=0.2, color=color.red)\n",
    "m3 = sphere(pos=vec(-1,-2,-3), radius=0.2, color=color.blue)\n",
    "m4 = sphere(pos=vec(-3,-2,-1), radius=0.2, color=color.green)\n",
    "\n",
    "name= {\n",
    "    \"L_Trunk\":m1,\n",
    "    \"R_Trunk\":m2,\n",
    "    \"D_Trunk\":m3,\n",
    "    \"L_Shoulder\":m4\n",
    "}\n",
    "\n",
    "#print(markers_by_name[\"L_Trunk\"].pos-markers_by_name[\"R_Trunk\"].pos)\n",
    "\n",
    "pairs = [[\"L_Trunk\", \"R_Trunk\"], [\"R_Trunk\", \"D_Trunk\"], [\"D_Trunk\",\"L_Shoulder\"], [\"L_Shoulder\",\"L_Trunk\"]]\n",
    "\n",
    "for pair in pairs:\n",
    "    cylinder(pos=name[pair[0]].pos, axis=name[pair[1]].pos - name[pair[0]].pos, color=color.white, radius=0.2)"
   ]
  },
  {
   "cell_type": "code",
   "execution_count": 3,
   "metadata": {},
   "outputs": [],
   "source": [
    "pairs = [[\"L_Trunk\", \"R_Trunk\"], [\"R_Trunk\", \"D_Trunk\"], [\"D_Trunk\",\"L_Shoulder\"], [\"L_Shoulder\",\"L_Trunk\"]]\n"
   ]
  },
  {
   "cell_type": "code",
   "execution_count": 4,
   "metadata": {},
   "outputs": [],
   "source": [
    "for pair in pairs:\n",
    "    cylinder(pos=name[pair[0]].pos, axis=name[pair[1]].pos - name[pair[0]].pos, color=color.white, radius=0.2)"
   ]
  },
  {
   "cell_type": "code",
   "execution_count": 5,
   "metadata": {},
   "outputs": [
    {
     "data": {
      "text/plain": [
       "[['L_Trunk', 'R_Trunk'],\n",
       " ['R_Trunk', 'D_Trunk'],\n",
       " ['D_Trunk', 'L_Shoulder'],\n",
       " ['L_Shoulder', 'L_Trunk']]"
      ]
     },
     "execution_count": 5,
     "metadata": {},
     "output_type": "execute_result"
    }
   ],
   "source": [
    "pairs"
   ]
  },
  {
   "cell_type": "code",
   "execution_count": null,
   "metadata": {},
   "outputs": [],
   "source": []
  }
 ],
 "metadata": {
  "kernelspec": {
   "display_name": "Python 3",
   "language": "python",
   "name": "python3"
  },
  "language_info": {
   "codemirror_mode": {
    "name": "ipython",
    "version": 3
   },
   "file_extension": ".py",
   "mimetype": "text/x-python",
   "name": "python",
   "nbconvert_exporter": "python",
   "pygments_lexer": "ipython3",
   "version": "3.6.5"
  }
 },
 "nbformat": 4,
 "nbformat_minor": 2
}
