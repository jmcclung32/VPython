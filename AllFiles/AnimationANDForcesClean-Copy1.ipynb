{
 "cells": [
  {
   "cell_type": "code",
   "execution_count": 1,
   "metadata": {},
   "outputs": [],
   "source": [
    "import csv #used for reading and parsing data from a text file\n",
    "import numpy as np\n",
    "import matplotlib.pyplot as plt\n",
    "import pandas as pd"
   ]
  },
  {
   "cell_type": "code",
   "execution_count": 2,
   "metadata": {},
   "outputs": [
    {
     "name": "stdout",
     "output_type": "stream",
     "text": [
      "[4, 272, 540, 2127]\n"
     ]
    }
   ],
   "source": [
    "#get the empty rows\n",
    "filename='clean_cmj.txt'\n",
    "datafile = csv.reader(open(filename, 'r'), delimiter='\\t')\n",
    "\n",
    "counter = 0 #counter for number of rows\n",
    "empty_rows = []\n",
    "for row in datafile:\n",
    "    if len(row)==0: #test for an empty row\n",
    "        empty_rows.append(counter)    \n",
    "    counter += 1\n",
    "print(empty_rows)"
   ]
  },
  {
   "cell_type": "code",
   "execution_count": 3,
   "metadata": {},
   "outputs": [
    {
     "data": {
      "text/plain": [
       "'s'"
      ]
     },
     "execution_count": 3,
     "metadata": {},
     "output_type": "execute_result"
    }
   ],
   "source": [
    "datafile = csv.reader(open(filename, 'r'), delimiter='\\t')\n",
    "\n",
    "# get position data\n",
    "counter = 0 #counter for number of rows\n",
    "pos_header = []\n",
    "pos_units = []\n",
    "pos_direction = []\n",
    "pos_data = []\n",
    "for row in datafile:\n",
    "    if counter==empty_rows[0]+1:\n",
    "        pos_header.append(row)\n",
    "    elif counter==empty_rows[0]+2:\n",
    "        pos_units.append(row)\n",
    "    elif counter==empty_rows[0]+3:\n",
    "        pos_direction.append(row)\n",
    "    elif counter>empty_rows[0]+3 and counter<empty_rows[1] :\n",
    "        pos_data.append(row)\n",
    "    elif counter>=empty_rows[1]:\n",
    "        break\n",
    "    counter = counter + 1\n",
    "    \n",
    "datafile = csv.reader(open(filename, 'r'), delimiter='\\t')\n",
    "# get force data\n",
    "counter1 = 0 #counter for number of rows\n",
    "force_header = []\n",
    "force_units = []\n",
    "force_direction = []\n",
    "force_data = []\n",
    "for row in datafile:\n",
    "    if counter1==empty_rows[1]+1:\n",
    "        force_header.append(row)\n",
    "    elif counter1==empty_rows[1]+2:\n",
    "        force_units.append(row)\n",
    "    elif counter1==empty_rows[1]+3:\n",
    "        force_direction.append(row)\n",
    "    elif counter1>empty_rows[1]+3 and counter1<empty_rows[2] :\n",
    "        force_data.append(row)\n",
    "    elif counter1>=empty_rows[2]:\n",
    "        break\n",
    "    counter1 = counter1 + 1\n",
    "    \n",
    "force_units[0][0]"
   ]
  },
  {
   "cell_type": "code",
   "execution_count": 4,
   "metadata": {},
   "outputs": [],
   "source": [
    "#make headers\n",
    "pos_head_unit = []\n",
    "counter = 0\n",
    "i = 0\n",
    "for i in range(len(pos_header[0])):\n",
    "    if i == 0:\n",
    "        head_plus_unit = pos_header[0][i]\n",
    "        pos_head_unit.append(head_plus_unit)\n",
    "    else:\n",
    "        if counter == 0:\n",
    "            head_plus_unit = pos_header[0][i] +  '_'  +   pos_direction[0][i]\n",
    "            pos_head_unit.append(head_plus_unit) \n",
    "        else:\n",
    "            head_plus_unit = pos_header[0][i-counter] +  '_'  + pos_direction[0][i] \n",
    "            pos_head_unit.append(head_plus_unit)    \n",
    "            \n",
    "        counter += 1\n",
    "        if counter == 3:\n",
    "            counter = 0\n",
    "            \n",
    "force_head_unit = []\n",
    "counter1 = 0\n",
    "\n",
    "for j in range(len(force_header[0])):\n",
    "    if j == 0:\n",
    "        fhead_plus_unit = force_header[0][j]\n",
    "        force_head_unit.append(fhead_plus_unit)\n",
    "    else:\n",
    "        if counter1 == 0:\n",
    "            fhead_plus_unit = force_header[0][j] +  '_'  +   force_direction[0][j]\n",
    "            force_head_unit.append(fhead_plus_unit) \n",
    "        else:\n",
    "            fhead_plus_unit = force_header[0][j-counter1] +  '_'  + force_direction[0][j] \n",
    "            force_head_unit.append(fhead_plus_unit)    \n",
    "            \n",
    "        counter1 += 1\n",
    "        if counter1 == 3:\n",
    "            counter1 = 0"
   ]
  },
  {
   "cell_type": "code",
   "execution_count": 5,
   "metadata": {},
   "outputs": [],
   "source": [
    "df = pd.DataFrame(pos_data, columns=pos_head_unit)\n",
    "#df"
   ]
  },
  {
   "cell_type": "code",
   "execution_count": 6,
   "metadata": {},
   "outputs": [],
   "source": [
    "df1 = pd.DataFrame(force_data, columns=force_head_unit)\n",
    "#df1"
   ]
  },
  {
   "cell_type": "code",
   "execution_count": 7,
   "metadata": {},
   "outputs": [],
   "source": [
    "#make all floats\n",
    "\n",
    "df = df.astype(float)\n",
    "df1 = df1.astype(float)"
   ]
  },
  {
   "cell_type": "code",
   "execution_count": 8,
   "metadata": {},
   "outputs": [
    {
     "name": "stdout",
     "output_type": "stream",
     "text": [
      "(264, 119) (264, 23)\n"
     ]
    }
   ],
   "source": [
    "#make array\n",
    "\n",
    "df.shape[1]\n",
    "data = df.values\n",
    "pos_data=data[:,1:-1]\n",
    "\n",
    "df1.shape[1]\n",
    "data1 = df1.values\n",
    "force_data=data1[:,1:-1]\n",
    "print(pos_data.shape, force_data.shape)"
   ]
  },
  {
   "cell_type": "code",
   "execution_count": 9,
   "metadata": {},
   "outputs": [],
   "source": [
    "# plt.figure()\n",
    "# plt.figure(figsize=(20, 10))\n",
    "\n",
    "# plt.subplot(1,3,1)\n",
    "# plt.plot(df['R.Hip_X'], 'r', label = 'X')\n",
    "# plt.plot(df['R.Hip_Y'], 'b', label = 'Y')\n",
    "# plt.plot(df['R.Hip_Z'], 'g', label = 'Z')\n",
    "# plt.title('position')\n",
    "\n",
    "# plt.subplot(1,3,2)\n",
    "# #plt.plot(df1['GRW1.F_X'], 'r', label = 'X')\n",
    "# #plt.plot(df1['GRW1.F_Y'], 'b', label = 'Y')\n",
    "# plt.plot(df1['GRW1.F_Z'], 'g', label = 'Z')\n",
    "# plt.title('force plate 1')\n",
    "\n",
    "\n",
    "# plt.subplot(1,3,3)\n",
    "# #plt.plot(df1['GRW2.F_X'], 'r', label = 'X')\n",
    "# #plt.plot(df1['GRW2.F_Y'], 'b', label = 'Y')\n",
    "# plt.plot(df1['GRW2.F_Z'], 'g', label = 'Z')\n",
    "# plt.title('force plate 2')\n",
    "\n",
    "# plt.tight_layout()\n",
    "# plt.legend()\n",
    "# plt.show()"
   ]
  },
  {
   "cell_type": "code",
   "execution_count": 10,
   "metadata": {},
   "outputs": [
    {
     "data": {
      "application/javascript": [
       "require.undef(\"nbextensions/vpython_libraries/glow.min\");"
      ],
      "text/plain": [
       "<IPython.core.display.Javascript object>"
      ]
     },
     "metadata": {},
     "output_type": "display_data"
    },
    {
     "data": {
      "application/javascript": [
       "require.undef(\"nbextensions/vpython_libraries/glowcomm\");"
      ],
      "text/plain": [
       "<IPython.core.display.Javascript object>"
      ]
     },
     "metadata": {},
     "output_type": "display_data"
    },
    {
     "data": {
      "application/javascript": [
       "require.undef(\"nbextensions/vpython_libraries/jquery-ui.custom.min\");"
      ],
      "text/plain": [
       "<IPython.core.display.Javascript object>"
      ]
     },
     "metadata": {},
     "output_type": "display_data"
    },
    {
     "data": {
      "application/javascript": [
       "require([\"nbextensions/vpython_libraries/glow.min\"], function(){console.log(\"GLOW LOADED\");})"
      ],
      "text/plain": [
       "<IPython.core.display.Javascript object>"
      ]
     },
     "metadata": {},
     "output_type": "display_data"
    },
    {
     "data": {
      "application/javascript": [
       "require([\"nbextensions/vpython_libraries/glowcomm\"], function(){console.log(\"GLOWCOMM LOADED\");})"
      ],
      "text/plain": [
       "<IPython.core.display.Javascript object>"
      ]
     },
     "metadata": {},
     "output_type": "display_data"
    },
    {
     "data": {
      "application/javascript": [
       "require([\"nbextensions/vpython_libraries/jquery-ui.custom.min\"], function(){console.log(\"JQUERY LOADED\");})"
      ],
      "text/plain": [
       "<IPython.core.display.Javascript object>"
      ]
     },
     "metadata": {},
     "output_type": "display_data"
    },
    {
     "data": {
      "text/html": [
       "<div id=\"glowscript\" class=\"glowscript\"></div>"
      ],
      "text/plain": [
       "<IPython.core.display.HTML object>"
      ]
     },
     "metadata": {},
     "output_type": "display_data"
    },
    {
     "data": {
      "application/javascript": [
       "window.__context = { glowscript_container: $(\"#glowscript\").removeAttr(\"id\")}"
      ],
      "text/plain": [
       "<IPython.core.display.Javascript object>"
      ]
     },
     "metadata": {},
     "output_type": "display_data"
    }
   ],
   "source": [
    "from vpython import *"
   ]
  },
  {
   "cell_type": "code",
   "execution_count": 11,
   "metadata": {},
   "outputs": [],
   "source": [
    "def animate(row0): #row0 is first row of animation\n",
    "    global rowPaused\n",
    "    for row in range(row0,pos_data.shape[0]):\n",
    "        rate(40)\n",
    "        j=0\n",
    "        l = 0\n",
    "        for k in range(pos_data.shape[1]-2):\n",
    "            if k % 3==0:\n",
    "                if pos_data[row,k] != 0:\n",
    "                    balls[j].pos = vec(pos_data[row,k],pos_data[row,k+2], pos_data[row,k+1])\n",
    "                    balls[j].visible = True\n",
    "                    if k % 4==0 and l < 2:\n",
    "                        forces[l].axis = 1.5*vector(force_data[row,k],force_data[row,k+2],force_data[row,k+1])\n",
    "                        forces[l].visible = True\n",
    "                        l = l+1\n",
    "\n",
    "                else:\n",
    "                    balls[j].visible = False\n",
    "\n",
    "                j = j+1\n",
    "        if running==False:\n",
    "            rowPaused = row\n",
    "            return row\n",
    "    rowPaused = 0\n",
    "    return row"
   ]
  },
  {
   "cell_type": "code",
   "execution_count": 24,
   "metadata": {},
   "outputs": [
    {
     "data": {
      "text/html": [
       "<div id=\"glowscript\" class=\"glowscript\"></div>"
      ],
      "text/plain": [
       "<IPython.core.display.HTML object>"
      ]
     },
     "metadata": {},
     "output_type": "display_data"
    },
    {
     "data": {
      "application/javascript": [
       "window.__context = { glowscript_container: $(\"#glowscript\").removeAttr(\"id\")}"
      ],
      "text/plain": [
       "<IPython.core.display.Javascript object>"
      ]
     },
     "metadata": {},
     "output_type": "display_data"
    },
    {
     "ename": "KeyboardInterrupt",
     "evalue": "",
     "output_type": "error",
     "traceback": [
      "\u001b[0;31m---------------------------------------------------------------------------\u001b[0m",
      "\u001b[0;31mKeyboardInterrupt\u001b[0m                         Traceback (most recent call last)",
      "\u001b[0;32m<ipython-input-24-b4a4208dee1e>\u001b[0m in \u001b[0;36m<module>\u001b[0;34m()\u001b[0m\n\u001b[1;32m     66\u001b[0m     \u001b[0;32mif\u001b[0m \u001b[0;32mnot\u001b[0m \u001b[0mrunning\u001b[0m\u001b[0;34m:\u001b[0m \u001b[0;32mcontinue\u001b[0m\u001b[0;34m\u001b[0m\u001b[0m\n\u001b[1;32m     67\u001b[0m     \u001b[0mscene\u001b[0m\u001b[0;34m.\u001b[0m\u001b[0mcamera\u001b[0m\u001b[0;34m.\u001b[0m\u001b[0mrotate\u001b[0m\u001b[0;34m(\u001b[0m\u001b[0mangle\u001b[0m \u001b[0;34m=\u001b[0m \u001b[0msl\u001b[0m\u001b[0;34m.\u001b[0m\u001b[0mvalue\u001b[0m\u001b[0;34m)\u001b[0m\u001b[0;34m\u001b[0m\u001b[0m\n\u001b[0;32m---> 68\u001b[0;31m     \u001b[0manimate\u001b[0m\u001b[0;34m(\u001b[0m\u001b[0mrowPaused\u001b[0m\u001b[0;34m)\u001b[0m\u001b[0;34m\u001b[0m\u001b[0m\n\u001b[0m",
      "\u001b[0;32m<ipython-input-11-c01a78090242>\u001b[0m in \u001b[0;36manimate\u001b[0;34m(row0)\u001b[0m\n\u001b[1;32m      2\u001b[0m     \u001b[0;32mglobal\u001b[0m \u001b[0mrowPaused\u001b[0m\u001b[0;34m\u001b[0m\u001b[0m\n\u001b[1;32m      3\u001b[0m     \u001b[0;32mfor\u001b[0m \u001b[0mrow\u001b[0m \u001b[0;32min\u001b[0m \u001b[0mrange\u001b[0m\u001b[0;34m(\u001b[0m\u001b[0mrow0\u001b[0m\u001b[0;34m,\u001b[0m\u001b[0mpos_data\u001b[0m\u001b[0;34m.\u001b[0m\u001b[0mshape\u001b[0m\u001b[0;34m[\u001b[0m\u001b[0;36m0\u001b[0m\u001b[0;34m]\u001b[0m\u001b[0;34m)\u001b[0m\u001b[0;34m:\u001b[0m\u001b[0;34m\u001b[0m\u001b[0m\n\u001b[0;32m----> 4\u001b[0;31m         \u001b[0mrate\u001b[0m\u001b[0;34m(\u001b[0m\u001b[0;36m40\u001b[0m\u001b[0;34m)\u001b[0m\u001b[0;34m\u001b[0m\u001b[0m\n\u001b[0m\u001b[1;32m      5\u001b[0m         \u001b[0mj\u001b[0m\u001b[0;34m=\u001b[0m\u001b[0;36m0\u001b[0m\u001b[0;34m\u001b[0m\u001b[0m\n\u001b[1;32m      6\u001b[0m         \u001b[0ml\u001b[0m \u001b[0;34m=\u001b[0m \u001b[0;36m0\u001b[0m\u001b[0;34m\u001b[0m\u001b[0m\n",
      "\u001b[0;32m~/anaconda3/lib/python3.6/site-packages/vpython/vpython.py\u001b[0m in \u001b[0;36m__call__\u001b[0;34m(self, N)\u001b[0m\n\u001b[1;32m    214\u001b[0m         \u001b[0mself\u001b[0m\u001b[0;34m.\u001b[0m\u001b[0mrval\u001b[0m \u001b[0;34m=\u001b[0m \u001b[0mN\u001b[0m\u001b[0;34m\u001b[0m\u001b[0m\n\u001b[1;32m    215\u001b[0m         \u001b[0;32mif\u001b[0m \u001b[0mself\u001b[0m\u001b[0;34m.\u001b[0m\u001b[0mrval\u001b[0m \u001b[0;34m<\u001b[0m \u001b[0;36m1\u001b[0m\u001b[0;34m:\u001b[0m \u001b[0;32mraise\u001b[0m \u001b[0mValueError\u001b[0m\u001b[0;34m(\u001b[0m\u001b[0;34m\"rate value must be greater than or equal to 1\"\u001b[0m\u001b[0;34m)\u001b[0m\u001b[0;34m\u001b[0m\u001b[0m\n\u001b[0;32m--> 216\u001b[0;31m         \u001b[0msuper\u001b[0m\u001b[0;34m(\u001b[0m\u001b[0m_RateKeeper2\u001b[0m\u001b[0;34m,\u001b[0m \u001b[0mself\u001b[0m\u001b[0;34m)\u001b[0m\u001b[0;34m.\u001b[0m\u001b[0m__call__\u001b[0m\u001b[0;34m(\u001b[0m\u001b[0mself\u001b[0m\u001b[0;34m.\u001b[0m\u001b[0mrval\u001b[0m\u001b[0;34m)\u001b[0m \u001b[0;31m## calls __call__ in rate_control.py\u001b[0m\u001b[0;34m\u001b[0m\u001b[0m\n\u001b[0m\u001b[1;32m    217\u001b[0m \u001b[0;34m\u001b[0m\u001b[0m\n\u001b[1;32m    218\u001b[0m \u001b[0;32mif\u001b[0m \u001b[0msys\u001b[0m\u001b[0;34m.\u001b[0m\u001b[0mversion\u001b[0m \u001b[0;34m>\u001b[0m \u001b[0;34m'3'\u001b[0m\u001b[0;34m:\u001b[0m\u001b[0;34m\u001b[0m\u001b[0m\n",
      "\u001b[0;32m~/anaconda3/lib/python3.6/site-packages/vpython/rate_control.py\u001b[0m in \u001b[0;36m__call__\u001b[0;34m(self, maxRate)\u001b[0m\n\u001b[1;32m    205\u001b[0m             \u001b[0mdt\u001b[0m \u001b[0;34m=\u001b[0m \u001b[0mself\u001b[0m\u001b[0;34m.\u001b[0m\u001b[0mlastSleep\u001b[0m \u001b[0;34m+\u001b[0m \u001b[0mself\u001b[0m\u001b[0;34m.\u001b[0m\u001b[0mcalls\u001b[0m\u001b[0;34m*\u001b[0m\u001b[0;34m(\u001b[0m\u001b[0mself\u001b[0m\u001b[0;34m.\u001b[0m\u001b[0muserTime\u001b[0m \u001b[0;34m+\u001b[0m \u001b[0mself\u001b[0m\u001b[0;34m.\u001b[0m\u001b[0mcallTime\u001b[0m \u001b[0;34m+\u001b[0m \u001b[0mself\u001b[0m\u001b[0;34m.\u001b[0m\u001b[0mdelay\u001b[0m\u001b[0;34m)\u001b[0m \u001b[0;34m+\u001b[0m\u001b[0;31m \u001b[0m\u001b[0;31m\\\u001b[0m\u001b[0;34m\u001b[0m\u001b[0m\n\u001b[1;32m    206\u001b[0m                  \u001b[0mrenders\u001b[0m\u001b[0;34m*\u001b[0m\u001b[0mself\u001b[0m\u001b[0;34m.\u001b[0m\u001b[0mrenderTime\u001b[0m \u001b[0;34m+\u001b[0m \u001b[0msleeps\u001b[0m\u001b[0;34m*\u001b[0m\u001b[0mself\u001b[0m\u001b[0;34m.\u001b[0m\u001b[0minteractionPeriod\u001b[0m \u001b[0;34m-\u001b[0m \u001b[0m_clock\u001b[0m\u001b[0;34m(\u001b[0m\u001b[0;34m)\u001b[0m\u001b[0;34m\u001b[0m\u001b[0m\n\u001b[0;32m--> 207\u001b[0;31m             \u001b[0m_sleep\u001b[0m\u001b[0;34m(\u001b[0m\u001b[0mdt\u001b[0m\u001b[0;34m)\u001b[0m\u001b[0;34m\u001b[0m\u001b[0m\n\u001b[0m\u001b[1;32m    208\u001b[0m             \u001b[0mself\u001b[0m\u001b[0;34m.\u001b[0m\u001b[0mlastSleep\u001b[0m \u001b[0;34m=\u001b[0m \u001b[0m_clock\u001b[0m\u001b[0;34m(\u001b[0m\u001b[0;34m)\u001b[0m\u001b[0;34m\u001b[0m\u001b[0m\n\u001b[1;32m    209\u001b[0m             \u001b[0mself\u001b[0m\u001b[0;34m.\u001b[0m\u001b[0mcalls\u001b[0m \u001b[0;34m=\u001b[0m \u001b[0;36m0\u001b[0m\u001b[0;34m\u001b[0m\u001b[0m\n",
      "\u001b[0;32m~/anaconda3/lib/python3.6/site-packages/vpython/rate_control.py\u001b[0m in \u001b[0;36m_sleep\u001b[0;34m(dt)\u001b[0m\n\u001b[1;32m     47\u001b[0m         \u001b[0mdtsleep\u001b[0m \u001b[0;34m=\u001b[0m \u001b[0mnticks\u001b[0m\u001b[0;34m*\u001b[0m\u001b[0m_tick\u001b[0m\u001b[0;34m\u001b[0m\u001b[0m\n\u001b[1;32m     48\u001b[0m         \u001b[0mt\u001b[0m \u001b[0;34m=\u001b[0m \u001b[0m_clock\u001b[0m\u001b[0;34m(\u001b[0m\u001b[0;34m)\u001b[0m\u001b[0;34m\u001b[0m\u001b[0m\n\u001b[0;32m---> 49\u001b[0;31m         \u001b[0mtime\u001b[0m\u001b[0;34m.\u001b[0m\u001b[0msleep\u001b[0m\u001b[0;34m(\u001b[0m\u001b[0mdtsleep\u001b[0m\u001b[0;34m)\u001b[0m\u001b[0;34m\u001b[0m\u001b[0m\n\u001b[0m\u001b[1;32m     50\u001b[0m         \u001b[0mt\u001b[0m \u001b[0;34m=\u001b[0m \u001b[0m_clock\u001b[0m\u001b[0;34m(\u001b[0m\u001b[0;34m)\u001b[0m\u001b[0;34m-\u001b[0m\u001b[0mt\u001b[0m\u001b[0;34m\u001b[0m\u001b[0m\n\u001b[1;32m     51\u001b[0m         \u001b[0mdt\u001b[0m \u001b[0;34m-=\u001b[0m \u001b[0mt\u001b[0m\u001b[0;34m\u001b[0m\u001b[0m\n",
      "\u001b[0;31mKeyboardInterrupt\u001b[0m: "
     ]
    }
   ],
   "source": [
    "scene=canvas()\n",
    "scene.width = 400\n",
    "scene.height = 400\n",
    "scene.background = color.white\n",
    "scene.title = \"Counter Movement Jump \\n\"\n",
    "scene.axis = 0\n",
    "x = 500\n",
    "y = 1000\n",
    "z = 1000\n",
    "\n",
    "scene.camera.pos = vector(x, y ,0)\n",
    "\n",
    "running = True\n",
    "def Run(b):\n",
    "    global running\n",
    "    running = not running \n",
    "    if running: \n",
    "        b.text = \"Pause\"\n",
    "    else: \n",
    "        b.text = \"Run\"\n",
    "\n",
    "def rotspeed(s):\n",
    "#    rotate(scene.up, angle=s, axis=vector(1,0,0) )\n",
    "#    scene.up = vector(0,np.cos(s),np.cos(pi/2-s))\n",
    "    stext.text = '{:1.2f}'.format(s.value)\n",
    "    \n",
    "#def rotobject(d):\n",
    "    \n",
    "\n",
    "#button(text=\"Pause\", pos=scene.title_anchor, bind=Run)\n",
    "button(text=\"Pause\", bind=Run)\n",
    "sl = slider(min=0, max=pi/2, value=0.3, length=200, bind=rotspeed, right=15)\n",
    "stext = wtext(text='{:1.2f}'.format(sl.value))\n",
    "\n",
    "\n",
    "# draw axes\n",
    "arrow(pos=vec(0,0,0), axis = vec(500,0,0), color=color.green)\n",
    "arrow(pos=vec(0,0,0), axis = vec(0,500,0), color=color.red) ## Transformed z plane\n",
    "arrow(pos=vec(0,0,0), axis = vec(0,0,500), color=color.blue) ## Transformed y plane\n",
    "\n",
    "#initialize markers\n",
    "balls = []\n",
    "\n",
    "i = 0\n",
    "for i in range(pos_data.shape[1]-2):\n",
    "    \n",
    "    if i % 3==0:\n",
    "        ball = sphere(pos=vec(pos_data[0,i],pos_data[0,i+2],pos_data[0,i+1]), radius=20, color=(vec(1,1,1)+vec.random())/2 , make_trail = False, visible = True)\n",
    "        balls.append(ball)\n",
    "\n",
    "    i = i +1\n",
    "    \n",
    "    \n",
    "#initialize forces\n",
    "forces = []\n",
    "\n",
    "force1 = arrow(pos=vector(500, 0,500), axis=5*vector(force_data[0,0],force_data[0,2],force_data[0,1]), shaftwidth=100, color=(vec(1,1,1)+vec.random())/2 ,  visible = True)\n",
    "forces.append(force1)\n",
    "\n",
    "force2 = arrow(pos=vector(1000, 0,500), axis=1.5*vector(force_data[12,0],force_data[12,2],force_data[12,1]), shaftwidth=100, color=(vec(1,1,1)+vec.random())/2 ,  visible = True)\n",
    "forces.append(force2)\n",
    "\n",
    "rowPaused = 0\n",
    "while True:\n",
    "    rate(10)\n",
    "    if not running: continue\n",
    "    scene.camera.rotate(angle = sl.value)\n",
    "    animate(rowPaused)\n"
   ]
  },
  {
   "cell_type": "code",
   "execution_count": null,
   "metadata": {},
   "outputs": [],
   "source": []
  },
  {
   "cell_type": "code",
   "execution_count": null,
   "metadata": {},
   "outputs": [],
   "source": []
  }
 ],
 "metadata": {
  "kernelspec": {
   "display_name": "Python 3",
   "language": "python",
   "name": "python3"
  },
  "language_info": {
   "codemirror_mode": {
    "name": "ipython",
    "version": 3
   },
   "file_extension": ".py",
   "mimetype": "text/x-python",
   "name": "python",
   "nbconvert_exporter": "python",
   "pygments_lexer": "ipython3",
   "version": "3.6.5"
  }
 },
 "nbformat": 4,
 "nbformat_minor": 2
}
