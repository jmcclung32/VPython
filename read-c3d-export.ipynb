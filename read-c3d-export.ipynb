{
 "cells": [
  {
   "cell_type": "markdown",
   "metadata": {},
   "source": [
    "# Read C3D Export Text File\n",
    "\n",
    "Read the exported file. Put into format for Pandas."
   ]
  },
  {
   "cell_type": "code",
   "execution_count": 2,
   "metadata": {},
   "outputs": [],
   "source": [
    "import csv #used for reading and parsing data from a text file\n",
    "import numpy as np\n",
    "import matplotlib.pyplot as plt"
   ]
  },
  {
   "cell_type": "code",
   "execution_count": 16,
   "metadata": {},
   "outputs": [
    {
     "name": "stdout",
     "output_type": "stream",
     "text": [
      "[4, 989, 1974, 7863]\n"
     ]
    }
   ],
   "source": [
    "#get the empty rows\n",
    "filename='cmj_3_NoStatic.txt'\n",
    "datafile = csv.reader(open(filename, 'r'), delimiter='\\t')\n",
    "\n",
    "counter = 0 #counter for number of rows\n",
    "empty_rows = []\n",
    "for row in datafile:\n",
    "    if len(row)==0: #test for an empty row\n",
    "        empty_rows.append(counter)    \n",
    "    counter += 1\n",
    "print(empty_rows)"
   ]
  },
  {
   "cell_type": "code",
   "execution_count": 41,
   "metadata": {},
   "outputs": [],
   "source": [
    "# get position data\n",
    "datafile = csv.reader(open(filename, 'r'), delimiter='\\t')\n",
    "counter = 0 #counter for number of rows\n",
    "pos_header = []\n",
    "pos_units = []\n",
    "pos_data = []\n",
    "for row in datafile:\n",
    "    if counter==empty_rows[0]+1:\n",
    "        pos_header.append(row)\n",
    "    elif counter==empty_rows[0]+2:\n",
    "        pos_units.append(row)\n",
    "    elif counter>empty_rows[0]+2 and counter<empty_rows[1] :\n",
    "        pos_data.append(row)\n",
    "    elif counter>=empty_rows[1]:\n",
    "        break\n",
    "    counter = counter + 1"
   ]
  },
  {
   "cell_type": "code",
   "execution_count": 55,
   "metadata": {},
   "outputs": [
    {
     "data": {
      "text/plain": [
       "' (mm)'"
      ]
     },
     "execution_count": 55,
     "metadata": {},
     "output_type": "execute_result"
    }
   ],
   "source": [
    "pos_head_unit = []\n",
    "for i in range(len(pos_header[0])):\n",
    "    head_plus_unit = pos_header[0][i] + ' (' + pos_units[0][i] + ')'\n",
    "    pos_head_unit.append(head_plus_unit)\n",
    "pos_head_unit[3]"
   ]
  },
  {
   "cell_type": "code",
   "execution_count": null,
   "metadata": {},
   "outputs": [],
   "source": []
  }
 ],
 "metadata": {
  "kernelspec": {
   "display_name": "Python 3",
   "language": "python",
   "name": "python3"
  },
  "language_info": {
   "codemirror_mode": {
    "name": "ipython",
    "version": 3
   },
   "file_extension": ".py",
   "mimetype": "text/x-python",
   "name": "python",
   "nbconvert_exporter": "python",
   "pygments_lexer": "ipython3",
   "version": "3.6.5"
  }
 },
 "nbformat": 4,
 "nbformat_minor": 2
}
