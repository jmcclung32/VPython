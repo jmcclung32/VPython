{
 "cells": [
  {
   "cell_type": "markdown",
   "metadata": {},
   "source": [
    "# Read C3D Export Text File\n",
    "\n",
    "Read the exported file. Put into format for Pandas."
   ]
  },
  {
   "cell_type": "code",
   "execution_count": 2,
   "metadata": {},
   "outputs": [],
   "source": [
    "import csv #used for reading and parsing data from a text file\n",
    "import numpy as np\n",
    "import matplotlib.pyplot as plt"
   ]
  },
  {
   "cell_type": "code",
   "execution_count": 3,
   "metadata": {},
   "outputs": [
    {
     "name": "stdout",
     "output_type": "stream",
     "text": [
      "[4, 272, 540, 2127]\n"
     ]
    }
   ],
   "source": [
    "#get the empty rows\n",
    "filename='clean_cmj.txt'\n",
    "datafile = csv.reader(open(filename, 'r'), delimiter='\\t')\n",
    "\n",
    "counter = 0 #counter for number of rows\n",
    "empty_rows = []\n",
    "for row in datafile:\n",
    "    if len(row)==0: #test for an empty row\n",
    "        empty_rows.append(counter)    \n",
    "    counter += 1\n",
    "print(empty_rows)"
   ]
  },
  {
   "cell_type": "code",
   "execution_count": 4,
   "metadata": {},
   "outputs": [
    {
     "data": {
      "text/plain": [
       "[['Time',\n",
       "  'L.Trunk',\n",
       "  '',\n",
       "  '',\n",
       "  'R.Trunk',\n",
       "  '',\n",
       "  '',\n",
       "  'DistalTrunk',\n",
       "  '',\n",
       "  '',\n",
       "  'R.UpperArm',\n",
       "  '',\n",
       "  '',\n",
       "  'R.Elbow',\n",
       "  '',\n",
       "  '',\n",
       "  'R.Wrist',\n",
       "  '',\n",
       "  '',\n",
       "  'L.UpperArm',\n",
       "  '',\n",
       "  '',\n",
       "  'L.Elbow',\n",
       "  '',\n",
       "  '',\n",
       "  'L.Wrist',\n",
       "  '',\n",
       "  '',\n",
       "  'R.Crest',\n",
       "  '',\n",
       "  '',\n",
       "  'R.ASIS',\n",
       "  '',\n",
       "  '',\n",
       "  'Sacrum',\n",
       "  '',\n",
       "  '',\n",
       "  'OFFSET',\n",
       "  '',\n",
       "  '',\n",
       "  'L.ASIS',\n",
       "  '',\n",
       "  '',\n",
       "  'L.Crest',\n",
       "  '',\n",
       "  '',\n",
       "  'R.Hip',\n",
       "  '',\n",
       "  '',\n",
       "  'R.Thigh',\n",
       "  '',\n",
       "  '',\n",
       "  'R.Knee',\n",
       "  '',\n",
       "  '',\n",
       "  'R.TibTubercle',\n",
       "  '',\n",
       "  '',\n",
       "  'R.MidShank',\n",
       "  '',\n",
       "  '',\n",
       "  'R.DistalShank',\n",
       "  '',\n",
       "  '',\n",
       "  'R.Heel',\n",
       "  '',\n",
       "  '',\n",
       "  'R.DistalHeel',\n",
       "  '',\n",
       "  '',\n",
       "  'R.PosteriorFoot',\n",
       "  '',\n",
       "  '',\n",
       "  'R.LateralToe',\n",
       "  '',\n",
       "  '',\n",
       "  'R.Toe',\n",
       "  '',\n",
       "  '',\n",
       "  'R.MedialToe',\n",
       "  '',\n",
       "  '',\n",
       "  'L.Hip',\n",
       "  '',\n",
       "  '',\n",
       "  'L.Thigh',\n",
       "  '',\n",
       "  '',\n",
       "  'L.Knee',\n",
       "  '',\n",
       "  '',\n",
       "  'L.TibTubercle',\n",
       "  '',\n",
       "  '',\n",
       "  'L.MidShank',\n",
       "  '',\n",
       "  '',\n",
       "  'L.DistalShank',\n",
       "  '',\n",
       "  '',\n",
       "  'L.Heel',\n",
       "  '',\n",
       "  '',\n",
       "  'L.DistalHeel',\n",
       "  '',\n",
       "  '',\n",
       "  'L.PosteriorFoot',\n",
       "  '',\n",
       "  '',\n",
       "  'L.LateralToe',\n",
       "  '',\n",
       "  '',\n",
       "  'L.Toe',\n",
       "  '',\n",
       "  '',\n",
       "  'L.MedialToe',\n",
       "  '',\n",
       "  '',\n",
       "  'Sternum',\n",
       "  '',\n",
       "  '']]"
      ]
     },
     "execution_count": 4,
     "metadata": {},
     "output_type": "execute_result"
    }
   ],
   "source": [
    "# get position data\n",
    "datafile = csv.reader(open(filename, 'r'), delimiter='\\t')\n",
    "counter = 0 #counter for number of rows\n",
    "pos_header = []\n",
    "pos_units = []\n",
    "pos_direction = []\n",
    "pos_data = []\n",
    "for row in datafile:\n",
    "    if counter==empty_rows[0]+1:\n",
    "        pos_header.append(row)\n",
    "    elif counter==empty_rows[0]+2:\n",
    "        pos_units.append(row)\n",
    "    elif counter==empty_rows[0]+3:\n",
    "        pos_direction.append(row)\n",
    "    elif counter>empty_rows[0]+3 and counter<empty_rows[1] :\n",
    "        pos_data.append(row)\n",
    "    elif counter>=empty_rows[1]:\n",
    "        break\n",
    "    counter = counter + 1\n",
    "    \n",
    "pos_header\n",
    "\n"
   ]
  },
  {
   "cell_type": "code",
   "execution_count": 19,
   "metadata": {},
   "outputs": [
    {
     "data": {
      "text/plain": [
       "['Time (s)', 'Time (s)', 'Time (s)']"
      ]
     },
     "execution_count": 19,
     "metadata": {},
     "output_type": "execute_result"
    }
   ],
   "source": [
    "pos_head_unit = []\n",
    "k = 0\n",
    "for i in range(len(pos_header[0])):\n",
    "    head_plus_unit = pos_header[0][i] + ' (' + pos_units[0][i] + ')'  \n",
    "    pos_head_unit.append(head_plus_unit)\n",
    "        \n",
    "        \n",
    "        \n",
    "pos_head_unit"
   ]
  },
  {
   "cell_type": "code",
   "execution_count": 5,
   "metadata": {},
   "outputs": [
    {
     "data": {
      "text/plain": [
       "['Time (s) ()']"
      ]
     },
     "execution_count": 5,
     "metadata": {},
     "output_type": "execute_result"
    }
   ],
   "source": [
    "pos_head_unit = []\n",
    "head_plus_unit = pos_header[0][0] + ' (' + pos_units[0][0] + ')'   + ' (' + pos_direction[0][0] + ')'  \n",
    "pos_head_unit.append(head_plus_unit)\n",
    "pos_head_unit"
   ]
  },
  {
   "cell_type": "code",
   "execution_count": 6,
   "metadata": {},
   "outputs": [
    {
     "data": {
      "text/plain": [
       "['L.Trunk (mm) (X)']"
      ]
     },
     "execution_count": 6,
     "metadata": {},
     "output_type": "execute_result"
    }
   ],
   "source": [
    "pos_head_unit = []\n",
    "head_plus_unit = pos_header[0][1] + ' (' + pos_units[0][1] + ')'   + ' (' + pos_direction[0][1] + ')'  \n",
    "pos_head_unit.append(head_plus_unit)\n",
    "pos_head_unit"
   ]
  },
  {
   "cell_type": "code",
   "execution_count": 7,
   "metadata": {},
   "outputs": [
    {
     "data": {
      "text/plain": [
       "['L.Trunk (mm) (X)', 'L.Trunk (mm) (Y)']"
      ]
     },
     "execution_count": 7,
     "metadata": {},
     "output_type": "execute_result"
    }
   ],
   "source": [
    "head_plus_unit = pos_header[0][1] + ' (' + pos_units[0][2] + ')'   + ' (' + pos_direction[0][2] + ')'  \n",
    "pos_head_unit.append(head_plus_unit)\n",
    "pos_head_unit"
   ]
  },
  {
   "cell_type": "code",
   "execution_count": 8,
   "metadata": {},
   "outputs": [
    {
     "data": {
      "text/plain": [
       "['L.Trunk (mm) (X)', 'L.Trunk (mm) (Y)', 'L.Trunk (mm) (Z)']"
      ]
     },
     "execution_count": 8,
     "metadata": {},
     "output_type": "execute_result"
    }
   ],
   "source": [
    "head_plus_unit = pos_header[0][1] + ' (' + pos_units[0][3] + ')'   + ' (' + pos_direction[0][3] + ')'  \n",
    "pos_head_unit.append(head_plus_unit)\n",
    "pos_head_unit"
   ]
  },
  {
   "cell_type": "code",
   "execution_count": 9,
   "metadata": {},
   "outputs": [
    {
     "data": {
      "text/plain": [
       "['L.Trunk (mm) (X)',\n",
       " 'L.Trunk (mm) (Y)',\n",
       " 'L.Trunk (mm) (Z)',\n",
       " 'R.Trunk (mm) (X)']"
      ]
     },
     "execution_count": 9,
     "metadata": {},
     "output_type": "execute_result"
    }
   ],
   "source": [
    "head_plus_unit = pos_header[0][4] + ' (' + pos_units[0][4] + ')'   + ' (' + pos_direction[0][4] + ')'  \n",
    "pos_head_unit.append(head_plus_unit)\n",
    "pos_head_unit"
   ]
  },
  {
   "cell_type": "code",
   "execution_count": 36,
   "metadata": {},
   "outputs": [
    {
     "data": {
      "text/plain": [
       "'L.Trunk'"
      ]
     },
     "execution_count": 36,
     "metadata": {},
     "output_type": "execute_result"
    }
   ],
   "source": [
    "pos_header[0][1]"
   ]
  },
  {
   "cell_type": "code",
   "execution_count": 1,
   "metadata": {},
   "outputs": [],
   "source": [
    "## between each name of marker there is 2 spaces... need to write conditonal statement that skips the two spaces\n",
    "\n",
    "## units counter goes with direction counter... 0 goes with time\n",
    "\n",
    "## header counter goes the length of pos_header"
   ]
  },
  {
   "cell_type": "code",
   "execution_count": 14,
   "metadata": {},
   "outputs": [],
   "source": [
    "pos_head_unit = []\n",
    "k = 0\n",
    "for i in range(len(pos_header[0])):\n",
    "    while k < len(pos_header[0]):\n",
    "        head_plus_unit = pos_header[0][k] + ' (' + pos_units[0][k] + ')'  + ' (' + pos_direction[0][k] + ')'\n",
    "        pos_head_unit.append(head_plus_unit)\n",
    "        k += 1"
   ]
  },
  {
   "cell_type": "code",
   "execution_count": 15,
   "metadata": {},
   "outputs": [
    {
     "data": {
      "text/plain": [
       "['Time (s) ()',\n",
       " 'L.Trunk (mm) (X)',\n",
       " ' (mm) (Y)',\n",
       " ' (mm) (Z)',\n",
       " 'R.Trunk (mm) (X)',\n",
       " ' (mm) (Y)',\n",
       " ' (mm) (Z)',\n",
       " 'DistalTrunk (mm) (X)',\n",
       " ' (mm) (Y)',\n",
       " ' (mm) (Z)',\n",
       " 'R.UpperArm (mm) (X)',\n",
       " ' (mm) (Y)',\n",
       " ' (mm) (Z)',\n",
       " 'R.Elbow (mm) (X)',\n",
       " ' (mm) (Y)',\n",
       " ' (mm) (Z)',\n",
       " 'R.Wrist (mm) (X)',\n",
       " ' (mm) (Y)',\n",
       " ' (mm) (Z)',\n",
       " 'L.UpperArm (mm) (X)',\n",
       " ' (mm) (Y)',\n",
       " ' (mm) (Z)',\n",
       " 'L.Elbow (mm) (X)',\n",
       " ' (mm) (Y)',\n",
       " ' (mm) (Z)',\n",
       " 'L.Wrist (mm) (X)',\n",
       " ' (mm) (Y)',\n",
       " ' (mm) (Z)',\n",
       " 'R.Crest (mm) (X)',\n",
       " ' (mm) (Y)',\n",
       " ' (mm) (Z)',\n",
       " 'R.ASIS (mm) (X)',\n",
       " ' (mm) (Y)',\n",
       " ' (mm) (Z)',\n",
       " 'Sacrum (mm) (X)',\n",
       " ' (mm) (Y)',\n",
       " ' (mm) (Z)',\n",
       " 'OFFSET (mm) (X)',\n",
       " ' (mm) (Y)',\n",
       " ' (mm) (Z)',\n",
       " 'L.ASIS (mm) (X)',\n",
       " ' (mm) (Y)',\n",
       " ' (mm) (Z)',\n",
       " 'L.Crest (mm) (X)',\n",
       " ' (mm) (Y)',\n",
       " ' (mm) (Z)',\n",
       " 'R.Hip (mm) (X)',\n",
       " ' (mm) (Y)',\n",
       " ' (mm) (Z)',\n",
       " 'R.Thigh (mm) (X)',\n",
       " ' (mm) (Y)',\n",
       " ' (mm) (Z)',\n",
       " 'R.Knee (mm) (X)',\n",
       " ' (mm) (Y)',\n",
       " ' (mm) (Z)',\n",
       " 'R.TibTubercle (mm) (X)',\n",
       " ' (mm) (Y)',\n",
       " ' (mm) (Z)',\n",
       " 'R.MidShank (mm) (X)',\n",
       " ' (mm) (Y)',\n",
       " ' (mm) (Z)',\n",
       " 'R.DistalShank (mm) (X)',\n",
       " ' (mm) (Y)',\n",
       " ' (mm) (Z)',\n",
       " 'R.Heel (mm) (X)',\n",
       " ' (mm) (Y)',\n",
       " ' (mm) (Z)',\n",
       " 'R.DistalHeel (mm) (X)',\n",
       " ' (mm) (Y)',\n",
       " ' (mm) (Z)',\n",
       " 'R.PosteriorFoot (mm) (X)',\n",
       " ' (mm) (Y)',\n",
       " ' (mm) (Z)',\n",
       " 'R.LateralToe (mm) (X)',\n",
       " ' (mm) (Y)',\n",
       " ' (mm) (Z)',\n",
       " 'R.Toe (mm) (X)',\n",
       " ' (mm) (Y)',\n",
       " ' (mm) (Z)',\n",
       " 'R.MedialToe (mm) (X)',\n",
       " ' (mm) (Y)',\n",
       " ' (mm) (Z)',\n",
       " 'L.Hip (mm) (X)',\n",
       " ' (mm) (Y)',\n",
       " ' (mm) (Z)',\n",
       " 'L.Thigh (mm) (X)',\n",
       " ' (mm) (Y)',\n",
       " ' (mm) (Z)',\n",
       " 'L.Knee (mm) (X)',\n",
       " ' (mm) (Y)',\n",
       " ' (mm) (Z)',\n",
       " 'L.TibTubercle (mm) (X)',\n",
       " ' (mm) (Y)',\n",
       " ' (mm) (Z)',\n",
       " 'L.MidShank (mm) (X)',\n",
       " ' (mm) (Y)',\n",
       " ' (mm) (Z)',\n",
       " 'L.DistalShank (mm) (X)',\n",
       " ' (mm) (Y)',\n",
       " ' (mm) (Z)',\n",
       " 'L.Heel (mm) (X)',\n",
       " ' (mm) (Y)',\n",
       " ' (mm) (Z)',\n",
       " 'L.DistalHeel (mm) (X)',\n",
       " ' (mm) (Y)',\n",
       " ' (mm) (Z)',\n",
       " 'L.PosteriorFoot (mm) (X)',\n",
       " ' (mm) (Y)',\n",
       " ' (mm) (Z)',\n",
       " 'L.LateralToe (mm) (X)',\n",
       " ' (mm) (Y)',\n",
       " ' (mm) (Z)',\n",
       " 'L.Toe (mm) (X)',\n",
       " ' (mm) (Y)',\n",
       " ' (mm) (Z)',\n",
       " 'L.MedialToe (mm) (X)',\n",
       " ' (mm) (Y)',\n",
       " ' (mm) (Z)',\n",
       " 'Sternum (mm) (X)',\n",
       " ' (mm) (Y)',\n",
       " ' (mm) (Z)']"
      ]
     },
     "execution_count": 15,
     "metadata": {},
     "output_type": "execute_result"
    }
   ],
   "source": [
    "pos_head_unit"
   ]
  },
  {
   "cell_type": "code",
   "execution_count": null,
   "metadata": {},
   "outputs": [],
   "source": [
    "## need to figure out how to skip the two spaces between headings"
   ]
  }
 ],
 "metadata": {
  "kernelspec": {
   "display_name": "Python 3",
   "language": "python",
   "name": "python3"
  },
  "language_info": {
   "codemirror_mode": {
    "name": "ipython",
    "version": 3
   },
   "file_extension": ".py",
   "mimetype": "text/x-python",
   "name": "python",
   "nbconvert_exporter": "python",
   "pygments_lexer": "ipython3",
   "version": "3.6.5"
  }
 },
 "nbformat": 4,
 "nbformat_minor": 2
}
