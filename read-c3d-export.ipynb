{
 "cells": [
  {
   "cell_type": "markdown",
   "metadata": {},
   "source": [
    "# Read C3D Export Text File\n",
    "\n",
    "Read the exported file. Put into format for Pandas."
   ]
  },
  {
   "cell_type": "code",
   "execution_count": 1,
   "metadata": {},
   "outputs": [],
   "source": [
    "import csv #used for reading and parsing data from a text file\n",
    "import numpy as np\n",
    "import matplotlib.pyplot as plt"
   ]
  },
  {
   "cell_type": "code",
   "execution_count": 6,
   "metadata": {},
   "outputs": [
    {
     "name": "stdout",
     "output_type": "stream",
     "text": [
      "[4, 272, 540, 2127]\n"
     ]
    }
   ],
   "source": [
    "#get the empty rows\n",
    "filename='clean_cmj.txt'\n",
    "datafile = csv.reader(open(filename, 'r'), delimiter='\\t')\n",
    "\n",
    "counter = 0 #counter for number of rows\n",
    "empty_rows = []\n",
    "for row in datafile:\n",
    "    if len(row)==0: #test for an empty row\n",
    "        empty_rows.append(counter)    \n",
    "    counter += 1\n",
    "print(empty_rows)"
   ]
  },
  {
   "cell_type": "code",
   "execution_count": 38,
   "metadata": {},
   "outputs": [
    {
     "data": {
      "text/plain": [
       "[['Time',\n",
       "  'L.Trunk',\n",
       "  '',\n",
       "  '',\n",
       "  'R.Trunk',\n",
       "  '',\n",
       "  '',\n",
       "  'DistalTrunk',\n",
       "  '',\n",
       "  '',\n",
       "  'R.UpperArm',\n",
       "  '',\n",
       "  '',\n",
       "  'R.Elbow',\n",
       "  '',\n",
       "  '',\n",
       "  'R.Wrist',\n",
       "  '',\n",
       "  '',\n",
       "  'L.UpperArm',\n",
       "  '',\n",
       "  '',\n",
       "  'L.Elbow',\n",
       "  '',\n",
       "  '',\n",
       "  'L.Wrist',\n",
       "  '',\n",
       "  '',\n",
       "  'R.Crest',\n",
       "  '',\n",
       "  '',\n",
       "  'R.ASIS',\n",
       "  '',\n",
       "  '',\n",
       "  'Sacrum',\n",
       "  '',\n",
       "  '',\n",
       "  'OFFSET',\n",
       "  '',\n",
       "  '',\n",
       "  'L.ASIS',\n",
       "  '',\n",
       "  '',\n",
       "  'L.Crest',\n",
       "  '',\n",
       "  '',\n",
       "  'R.Hip',\n",
       "  '',\n",
       "  '',\n",
       "  'R.Thigh',\n",
       "  '',\n",
       "  '',\n",
       "  'R.Knee',\n",
       "  '',\n",
       "  '',\n",
       "  'R.TibTubercle',\n",
       "  '',\n",
       "  '',\n",
       "  'R.MidShank',\n",
       "  '',\n",
       "  '',\n",
       "  'R.DistalShank',\n",
       "  '',\n",
       "  '',\n",
       "  'R.Heel',\n",
       "  '',\n",
       "  '',\n",
       "  'R.DistalHeel',\n",
       "  '',\n",
       "  '',\n",
       "  'R.PosteriorFoot',\n",
       "  '',\n",
       "  '',\n",
       "  'R.LateralToe',\n",
       "  '',\n",
       "  '',\n",
       "  'R.Toe',\n",
       "  '',\n",
       "  '',\n",
       "  'R.MedialToe',\n",
       "  '',\n",
       "  '',\n",
       "  'L.Hip',\n",
       "  '',\n",
       "  '',\n",
       "  'L.Thigh',\n",
       "  '',\n",
       "  '',\n",
       "  'L.Knee',\n",
       "  '',\n",
       "  '',\n",
       "  'L.TibTubercle',\n",
       "  '',\n",
       "  '',\n",
       "  'L.MidShank',\n",
       "  '',\n",
       "  '',\n",
       "  'L.DistalShank',\n",
       "  '',\n",
       "  '',\n",
       "  'L.Heel',\n",
       "  '',\n",
       "  '',\n",
       "  'L.DistalHeel',\n",
       "  '',\n",
       "  '',\n",
       "  'L.PosteriorFoot',\n",
       "  '',\n",
       "  '',\n",
       "  'L.LateralToe',\n",
       "  '',\n",
       "  '',\n",
       "  'L.Toe',\n",
       "  '',\n",
       "  '',\n",
       "  'L.MedialToe',\n",
       "  '',\n",
       "  '',\n",
       "  'Sternum',\n",
       "  '',\n",
       "  '']]"
      ]
     },
     "execution_count": 38,
     "metadata": {},
     "output_type": "execute_result"
    }
   ],
   "source": [
    "# get position data\n",
    "datafile = csv.reader(open(filename, 'r'), delimiter='\\t')\n",
    "counter = 0 #counter for number of rows\n",
    "pos_header = []\n",
    "pos_units = []\n",
    "pos_direction = []\n",
    "pos_data = []\n",
    "for row in datafile:\n",
    "    if counter==empty_rows[0]+1:\n",
    "        pos_header.append(row)\n",
    "    elif counter==empty_rows[0]+2:\n",
    "        pos_units.append(row)\n",
    "    elif counter==empty_rows[0]+3:\n",
    "        pos_direction.append(row)\n",
    "    elif counter>empty_rows[0]+3 and counter<empty_rows[1] :\n",
    "        pos_data.append(row)\n",
    "    elif counter>=empty_rows[1]:\n",
    "        break\n",
    "    counter = counter + 1\n",
    "    \n",
    "pos_header\n",
    "\n"
   ]
  },
  {
   "cell_type": "code",
   "execution_count": 19,
   "metadata": {},
   "outputs": [
    {
     "data": {
      "text/plain": [
       "['Time (s)', 'Time (s)', 'Time (s)']"
      ]
     },
     "execution_count": 19,
     "metadata": {},
     "output_type": "execute_result"
    }
   ],
   "source": [
    "pos_head_unit = []\n",
    "k = 0\n",
    "for i in range(len(pos_header[0])):\n",
    "    while k < 3:\n",
    "        if i < 0:\n",
    "            head_plus_unit = pos_header[i][k] + ' (' + pos_units[i][k] + ')' + ' (' + pos_units[i][k] + ')'' (' + pos_units[i][k] + ')'\n",
    "            pos_head_unit.append(head_plus_unit)\n",
    "        else:\n",
    "            head_plus_unit = pos_header[i][i] + ' (' + pos_units[i][i] + ')'  \n",
    "            pos_head_unit.append(head_plus_unit)\n",
    "        k = k + 1\n",
    "        \n",
    "        \n",
    "pos_head_unit"
   ]
  },
  {
   "cell_type": "code",
   "execution_count": 23,
   "metadata": {},
   "outputs": [
    {
     "data": {
      "text/plain": [
       "['Time (s) ()']"
      ]
     },
     "execution_count": 23,
     "metadata": {},
     "output_type": "execute_result"
    }
   ],
   "source": [
    "pos_head_unit = []\n",
    "head_plus_unit = pos_header[0][0] + ' (' + pos_units[0][0] + ')'   + ' (' + pos_direction[0][0] + ')'  \n",
    "pos_head_unit.append(head_plus_unit)\n",
    "pos_head_unit"
   ]
  },
  {
   "cell_type": "code",
   "execution_count": 44,
   "metadata": {},
   "outputs": [
    {
     "data": {
      "text/plain": [
       "['L.Trunk (mm) (X)']"
      ]
     },
     "execution_count": 44,
     "metadata": {},
     "output_type": "execute_result"
    }
   ],
   "source": [
    "pos_head_unit = []\n",
    "head_plus_unit = pos_header[0][1] + ' (' + pos_units[0][1] + ')'   + ' (' + pos_direction[0][1] + ')'  \n",
    "pos_head_unit.append(head_plus_unit)\n",
    "pos_head_unit"
   ]
  },
  {
   "cell_type": "code",
   "execution_count": 45,
   "metadata": {},
   "outputs": [
    {
     "data": {
      "text/plain": [
       "['L.Trunk (mm) (X)', 'L.Trunk (mm) (Y)']"
      ]
     },
     "execution_count": 45,
     "metadata": {},
     "output_type": "execute_result"
    }
   ],
   "source": [
    "head_plus_unit = pos_header[0][1] + ' (' + pos_units[0][2] + ')'   + ' (' + pos_direction[0][2] + ')'  \n",
    "pos_head_unit.append(head_plus_unit)\n",
    "pos_head_unit"
   ]
  },
  {
   "cell_type": "code",
   "execution_count": 46,
   "metadata": {},
   "outputs": [
    {
     "data": {
      "text/plain": [
       "['L.Trunk (mm) (X)', 'L.Trunk (mm) (Y)', 'L.Trunk (mm) (Z)']"
      ]
     },
     "execution_count": 46,
     "metadata": {},
     "output_type": "execute_result"
    }
   ],
   "source": [
    "head_plus_unit = pos_header[0][1] + ' (' + pos_units[0][3] + ')'   + ' (' + pos_direction[0][3] + ')'  \n",
    "pos_head_unit.append(head_plus_unit)\n",
    "pos_head_unit"
   ]
  },
  {
   "cell_type": "code",
   "execution_count": 47,
   "metadata": {},
   "outputs": [
    {
     "data": {
      "text/plain": [
       "['L.Trunk (mm) (X)',\n",
       " 'L.Trunk (mm) (Y)',\n",
       " 'L.Trunk (mm) (Z)',\n",
       " 'R.Trunk (mm) (X)']"
      ]
     },
     "execution_count": 47,
     "metadata": {},
     "output_type": "execute_result"
    }
   ],
   "source": [
    "head_plus_unit = pos_header[0][4] + ' (' + pos_units[0][1] + ')'   + ' (' + pos_direction[0][1] + ')'  \n",
    "pos_head_unit.append(head_plus_unit)\n",
    "pos_head_unit"
   ]
  },
  {
   "cell_type": "code",
   "execution_count": 36,
   "metadata": {},
   "outputs": [
    {
     "data": {
      "text/plain": [
       "'L.Trunk'"
      ]
     },
     "execution_count": 36,
     "metadata": {},
     "output_type": "execute_result"
    }
   ],
   "source": [
    "pos_header[0][1]"
   ]
  },
  {
   "cell_type": "code",
   "execution_count": null,
   "metadata": {},
   "outputs": [],
   "source": [
    "## between each name of marker there is 2 spaces... need to write conditonal statement that skips the two spaces\n",
    "\n",
    "## units counter goes with direction counter. counter must be 1, 2, or 3\n",
    "\n",
    "## header counter goes the length of pos_header"
   ]
  }
 ],
 "metadata": {
  "kernelspec": {
   "display_name": "Python 3",
   "language": "python",
   "name": "python3"
  },
  "language_info": {
   "codemirror_mode": {
    "name": "ipython",
    "version": 3
   },
   "file_extension": ".py",
   "mimetype": "text/x-python",
   "name": "python",
   "nbconvert_exporter": "python",
   "pygments_lexer": "ipython3",
   "version": "3.6.5"
  }
 },
 "nbformat": 4,
 "nbformat_minor": 2
}
