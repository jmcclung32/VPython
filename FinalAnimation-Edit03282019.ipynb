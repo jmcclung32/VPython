{
 "cells": [
  {
   "cell_type": "code",
   "execution_count": 1,
   "metadata": {},
   "outputs": [],
   "source": [
    "import csv #used for reading and parsing data from a text file\n",
    "import numpy as np\n",
    "import matplotlib.pyplot as plt\n",
    "import pandas as pd"
   ]
  },
  {
   "cell_type": "code",
   "execution_count": 2,
   "metadata": {},
   "outputs": [
    {
     "name": "stdout",
     "output_type": "stream",
     "text": [
      "[4, 272, 540, 2127]\n"
     ]
    }
   ],
   "source": [
    "#get the empty rows\n",
    "filename='clean_cmj.txt'\n",
    "datafile = csv.reader(open(filename, 'r'), delimiter='\\t')\n",
    "\n",
    "counter = 0 #counter for number of rows\n",
    "empty_rows = []\n",
    "for row in datafile:\n",
    "    if len(row)==0: #test for an empty row\n",
    "        empty_rows.append(counter)    \n",
    "    counter += 1\n",
    "print(empty_rows)"
   ]
  },
  {
   "cell_type": "code",
   "execution_count": 3,
   "metadata": {},
   "outputs": [],
   "source": [
    "datafile = csv.reader(open(filename, 'r'), delimiter='\\t')\n",
    "\n",
    "# get position data\n",
    "counter = 0 #counter for number of rows\n",
    "pos_header = []\n",
    "pos_units = []\n",
    "pos_direction = []\n",
    "pos_data = []\n",
    "for row in datafile:\n",
    "    if counter==empty_rows[0]+1:\n",
    "        pos_header.append(row)\n",
    "    elif counter==empty_rows[0]+2:\n",
    "        pos_units.append(row)\n",
    "    elif counter==empty_rows[0]+3:\n",
    "        pos_direction.append(row)\n",
    "    elif counter>empty_rows[0]+3 and counter<empty_rows[1] :\n",
    "        pos_data.append(row)\n",
    "    elif counter>=empty_rows[1]:\n",
    "        break\n",
    "    counter = counter + 1\n",
    "    \n",
    "    \n",
    "    \n",
    "    \n",
    "datafile = csv.reader(open(filename, 'r'), delimiter='\\t')\n",
    "\n",
    "\n",
    "# get force data\n",
    "counter1 = 0 #counter for number of rows\n",
    "force_header = []\n",
    "force_units = []\n",
    "force_direction = []\n",
    "force_data = []\n",
    "for row in datafile:\n",
    "    if counter1==empty_rows[1]+1:\n",
    "        force_header.append(row)\n",
    "    elif counter1==empty_rows[1]+2:\n",
    "        force_units.append(row)\n",
    "    elif counter1==empty_rows[1]+3:\n",
    "        force_direction.append(row)\n",
    "    elif counter1>empty_rows[1]+3 and counter1<empty_rows[2] :\n",
    "        force_data.append(row)\n",
    "    elif counter1>=empty_rows[2]:\n",
    "        break\n",
    "    counter1 = counter1 + 1\n",
    "    "
   ]
  },
  {
   "cell_type": "code",
   "execution_count": 4,
   "metadata": {},
   "outputs": [],
   "source": [
    "#make headers\n",
    "pos_head_unit = []\n",
    "counter = 0\n",
    "i = 0\n",
    "for i in range(len(pos_header[0])):\n",
    "    if i == 0:\n",
    "        head_plus_unit = pos_header[0][i]\n",
    "        pos_head_unit.append(head_plus_unit)\n",
    "    else:\n",
    "        if counter == 0:\n",
    "            head_plus_unit = pos_header[0][i] +  '_'  +   pos_direction[0][i]\n",
    "            pos_head_unit.append(head_plus_unit) \n",
    "        else:\n",
    "            head_plus_unit = pos_header[0][i-counter] +  '_'  + pos_direction[0][i] \n",
    "            pos_head_unit.append(head_plus_unit)    \n",
    "            \n",
    "        counter += 1\n",
    "        if counter == 3:\n",
    "            counter = 0\n",
    "            \n",
    "force_head_unit = []\n",
    "counter1 = 0\n",
    "\n",
    "for j in range(len(force_header[0])):\n",
    "    if j == 0:\n",
    "        fhead_plus_unit = force_header[0][j]\n",
    "        force_head_unit.append(fhead_plus_unit)\n",
    "    else:\n",
    "        if counter1 == 0:\n",
    "            fhead_plus_unit = force_header[0][j] +  '_'  +   force_direction[0][j]\n",
    "            force_head_unit.append(fhead_plus_unit) \n",
    "        else:\n",
    "            fhead_plus_unit = force_header[0][j-counter1] +  '_'  + force_direction[0][j] \n",
    "            force_head_unit.append(fhead_plus_unit)    \n",
    "            \n",
    "        counter1 += 1\n",
    "        if counter1 == 3:\n",
    "            counter1 = 0"
   ]
  },
  {
   "cell_type": "code",
   "execution_count": 5,
   "metadata": {},
   "outputs": [],
   "source": [
    "df = pd.DataFrame(pos_data, columns=pos_head_unit)\n",
    "#df\n",
    "\n",
    "df1 = pd.DataFrame(force_data, columns=force_head_unit)\n",
    "#df1\n",
    "\n",
    "#make all floats\n",
    "\n",
    "df = df.astype(float)\n",
    "df1 = df1.astype(float)\n",
    "\n",
    "#make array\n",
    "\n",
    "df.shape[1]\n",
    "data = df.values\n",
    "\n",
    "pos_data=data[:,1:-1]\n",
    "\n",
    "df1.shape[1]\n",
    "data1 = df1.values\n",
    "force_data=data1[:,1:-1]\n",
    "#print(pos_data.shape, force_data.shape)\n"
   ]
  },
  {
   "cell_type": "code",
   "execution_count": 6,
   "metadata": {},
   "outputs": [],
   "source": [
    "times = data1[:,0]\n",
    "# len(time)"
   ]
  },
  {
   "cell_type": "code",
   "execution_count": 7,
   "metadata": {},
   "outputs": [],
   "source": [
    "forcepos = np.zeros((force_data.shape[0], 3))\n",
    "i = 6\n",
    "for row in range(force_data.shape[0]):\n",
    "    i = 6\n",
    "    k = 0\n",
    "    while i < 9:\n",
    "        forcepos[row, k] = force_data[row,i]\n",
    "        i = i + 1\n",
    "        k = k + 1\n",
    "\n",
    "forcepos2 = np.zeros((force_data.shape[0], 3))\n",
    "i = 18\n",
    "for row in range(force_data.shape[0]):\n",
    "    i = 18\n",
    "    k = 0\n",
    "    while i < 21:\n",
    "        forcepos2[row, k] = force_data[row,i]\n",
    "        i = i + 1\n",
    "        k = k + 1        \n",
    "        \n",
    "        \n",
    "#forcepos2"
   ]
  },
  {
   "cell_type": "code",
   "execution_count": 8,
   "metadata": {},
   "outputs": [],
   "source": [
    "#df1"
   ]
  },
  {
   "cell_type": "code",
   "execution_count": 9,
   "metadata": {},
   "outputs": [
    {
     "data": {
      "application/javascript": [
       "require.undef(\"nbextensions/vpython_libraries/glow.min\");"
      ],
      "text/plain": [
       "<IPython.core.display.Javascript object>"
      ]
     },
     "metadata": {},
     "output_type": "display_data"
    },
    {
     "data": {
      "application/javascript": [
       "require.undef(\"nbextensions/vpython_libraries/glowcomm\");"
      ],
      "text/plain": [
       "<IPython.core.display.Javascript object>"
      ]
     },
     "metadata": {},
     "output_type": "display_data"
    },
    {
     "data": {
      "application/javascript": [
       "require.undef(\"nbextensions/vpython_libraries/jquery-ui.custom.min\");"
      ],
      "text/plain": [
       "<IPython.core.display.Javascript object>"
      ]
     },
     "metadata": {},
     "output_type": "display_data"
    },
    {
     "data": {
      "application/javascript": [
       "require([\"nbextensions/vpython_libraries/glow.min\"], function(){console.log(\"GLOW LOADED\");})"
      ],
      "text/plain": [
       "<IPython.core.display.Javascript object>"
      ]
     },
     "metadata": {},
     "output_type": "display_data"
    },
    {
     "data": {
      "application/javascript": [
       "require([\"nbextensions/vpython_libraries/glowcomm\"], function(){console.log(\"GLOWCOMM LOADED\");})"
      ],
      "text/plain": [
       "<IPython.core.display.Javascript object>"
      ]
     },
     "metadata": {},
     "output_type": "display_data"
    },
    {
     "data": {
      "application/javascript": [
       "require([\"nbextensions/vpython_libraries/jquery-ui.custom.min\"], function(){console.log(\"JQUERY LOADED\");})"
      ],
      "text/plain": [
       "<IPython.core.display.Javascript object>"
      ]
     },
     "metadata": {},
     "output_type": "display_data"
    },
    {
     "data": {
      "text/html": [
       "<div id=\"glowscript\" class=\"glowscript\"></div>"
      ],
      "text/plain": [
       "<IPython.core.display.HTML object>"
      ]
     },
     "metadata": {},
     "output_type": "display_data"
    },
    {
     "data": {
      "application/javascript": [
       "window.__context = { glowscript_container: $(\"#glowscript\").removeAttr(\"id\")}"
      ],
      "text/plain": [
       "<IPython.core.display.Javascript object>"
      ]
     },
     "metadata": {},
     "output_type": "display_data"
    }
   ],
   "source": [
    "from vpython import *"
   ]
  },
  {
   "cell_type": "code",
   "execution_count": 16,
   "metadata": {},
   "outputs": [],
   "source": [
    "def animate(row0): #row0 is first row of animation\n",
    "    global rowPaused\n",
    "    for row in range(row0,pos_data.shape[0]):\n",
    "        rate(40)\n",
    "        j=0\n",
    "        l = 0\n",
    "        for k in range(pos_data.shape[1]-2):\n",
    "            if k % 3==0:\n",
    "                if pos_data[row,k] != 0:\n",
    "                    balls[j].pos = vec(pos_data[row,k],pos_data[row,k+2], pos_data[row,k+1])\n",
    "                    balls[j].visible = True\n",
    "\n",
    "                    if k % 4==0 and l < 2:\n",
    "                        forces[l].axis = 1.5*vector(force_data[row,k],force_data[row,k+2],force_data[row,k+1])\n",
    "                        forces[l].pos = vector(forcepos[row,0],forcepos[row,2],forcepos[row,1])\n",
    "                        forces[l].visible = True\n",
    "                        #updategraph(times[row],forces[1].axis.y)\n",
    "                        if l == 1:\n",
    "                            forces[l].pos = vector(forcepos2[row,0],forcepos2[row,2],forcepos2[row,1])\n",
    "                        updatefgraph(times[row],forces[0].axis.y,times[row],forces[1].axis.y)\n",
    "                        l = l+1\n",
    "                \n",
    "                else:\n",
    "                    balls[j].visible = False\n",
    "                jointangle()\n",
    "                updateagraph(times[row],thetahip, times[row], thetaknee)\n",
    "                j = j+1\n",
    "        update()\n",
    "        \n",
    "        \n",
    "\n",
    "        if running==False:\n",
    "            rowPaused = row\n",
    "            return row\n",
    "\n",
    "    fcurve.delete()\n",
    "    fcurve2.delete()\n",
    "    acurve.delete()\n",
    "    acurve2.delete()\n",
    "    \n",
    "    rowPaused = 0\n",
    "    return row"
   ]
  },
  {
   "cell_type": "code",
   "execution_count": 17,
   "metadata": {},
   "outputs": [],
   "source": [
    "def join():\n",
    "    global pipe, pairs, name, Ranglepair, Langlepair\n",
    "    \n",
    "    name= {\n",
    "    \"L_Trunk\":balls[0],\n",
    "    \"R_Trunk\":balls[1],\n",
    "    \"D_Trunk\":balls[2],\n",
    "    \"R_Shoulder\":balls[3],\n",
    "    \"R_Elbow\":balls[4],\n",
    "    \"R_Wrist\":balls[5],\n",
    "    \"L_Shoulder\":balls[6],\n",
    "    \"L_Elbow\":balls[7],\n",
    "    \"L_Wrist\":balls[8],\n",
    "    \"R_Crest\":balls[9],\n",
    "    \"R_ASIS\":balls[10],\n",
    "    \"Sacrum\":balls[11],\n",
    "    \"Offset\":balls[12],\n",
    "    \"L_ASIS\":balls[13],\n",
    "    \"L_Crest\":balls[14],\n",
    "    \"R_Hip\":balls[15],\n",
    "    \"R_Thigh\":balls[16],\n",
    "    \"R_Knee\":balls[17],\n",
    "    \"R_Tib\":balls[18],\n",
    "    \"R_MidShank\":balls[19],\n",
    "    \"R_DistShank\":balls[20],\n",
    "    \"R_Heel\":balls[21],\n",
    "    \"R_DistHeel\":balls[22],\n",
    "    \"R_PostFoot\":balls[23],\n",
    "    \"R_LatToe\":balls[24],\n",
    "    \"R_Toe\":balls[25],\n",
    "    \"R_MedToe\":balls[26],\n",
    "    \"L_Hip\":balls[27],\n",
    "    \"L_Thigh\":balls[28],\n",
    "    \"L_Knee\":balls[29],\n",
    "    \"L_Tib\":balls[30],\n",
    "    \"L_MidShank\":balls[31],\n",
    "    \"L_DistShank\":balls[32],\n",
    "    \"L_Heel\":balls[33],\n",
    "    \"L_DistHeel\":balls[34],\n",
    "    \"L_PostFoot\":balls[35],\n",
    "    \"L_LatToe\":balls[36],\n",
    "    \"L_Toe\":balls[37],\n",
    "    \"L_MedToe\":balls[38]}\n",
    "\n",
    "\n",
    "    pairs = [[\"R_Trunk\", \"L_Trunk\"], [\"R_Trunk\", \"D_Trunk\"], [\"R_Trunk\", \"R_Shoulder\"], [\"R_Shoulder\", \"L_Trunk\"], #4\n",
    "         [\"R_Shoulder\", \"D_Trunk\"], [\"R_Shoulder\",\"R_Elbow\"], [\"R_Elbow\", \"R_Wrist\"], [\"L_Trunk\", \"D_Trunk\"], #8\n",
    "         [\"L_Trunk\", \"L_Shoulder\"], [\"L_Shoulder\", \"R_Trunk\"], [\"L_Shoulder\", \"D_Trunk\"], [\"L_Shoulder\", \"L_Elbow\"], #12\n",
    "         [\"L_Elbow\", \"L_Wrist\"], [\"R_Crest\", \"Sacrum\"], [\"R_Crest\", \"R_Hip\"], [\"R_ASIS\", \"R_Crest\"], #16\n",
    "         [\"R_ASIS\", \"Sacrum\"], [\"R_ASIS\", \"D_Trunk\"], [\"R_ASIS\", \"R_Hip\"], [\"R_ASIS\", \"L_ASIS\"], #20\n",
    "         [\"R_ASIS\", \"Offset\"], [\"Sacrum\", \"Offset\"], [\"Sacrum\", \"D_Trunk\"], [\"L_ASIS\", \"L_Crest\"], #24\n",
    "         [\"L_ASIS\", \"Sacrum\"], [\"L_ASIS\", \"D_Trunk\"], [\"L_ASIS\", \"L_Hip\"], [\"L_ASIS\", \"Offset\"], #28\n",
    "         [\"L_Crest\", \"Offset\"], [\"L_Crest\", \"L_Hip\"],  #30\n",
    "         #Legs;  \n",
    "         [\"R_Hip\", \"R_Thigh\"], [\"R_Hip\", \"R_Knee\"],[\"R_Hip\", \"R_Tib\"], [\"R_Knee\", \"R_Tib\"], #34\n",
    "         [\"R_Knee\", \"R_MidShank\"], [\"R_Knee\", \"R_DistShank\"],[\"R_Tib\", \"R_Thigh\"], [\"R_Tib\", \"R_DistShank\"], #38\n",
    "         [\"R_Tib\", \"R_MidShank\"], [\"R_MidShank\", \"R_DistShank\"],[\"R_DistShank\", \"R_Heel\"], [\"R_Heel\", \"R_DistHeel\"], #42\n",
    "         [\"R_Heel\", \"R_Toe\"], [\"R_DistHeel\", \"R_PostFoot\"],[\"R_DistHeel\", \"R_DistShank\"], [\"R_PostFoot\", \"R_LatToe\"], #46\n",
    "         [\"R_PostFoot\", \"R_Toe\"], [\"R_PostFoot\", \"R_DistShank\"], [\"R_LatToe\", \"R_Toe\"], [\"R_Toe\", \"R_MedToe\"], #50\n",
    "         [\"R_MedToe\", \"R_DistHeel\"],  #51\n",
    "      \n",
    "         [\"L_Hip\", \"L_Thigh\"], [\"L_Hip\", \"L_Knee\"], [\"L_Hip\", \"L_Tib\"], [\"L_Knee\", \"L_Tib\"], #55\n",
    "         [\"L_Knee\", \"L_MidShank\"], [\"L_Knee\", \"L_DistShank\"],[\"L_Tib\", \"L_Thigh\"], [\"L_Tib\", \"L_DistShank\"], #59\n",
    "         [\"L_Tib\", \"L_MidShank\"], [\"L_MidShank\", \"L_DistShank\"],[\"L_DistShank\", \"L_Heel\"], [\"L_Heel\", \"L_DistHeel\"], #63\n",
    "         [\"L_Heel\", \"L_Toe\"], [\"L_DistHeel\", \"L_PostFoot\"],[\"L_DistHeel\", \"L_DistShank\"], [\"L_PostFoot\", \"L_LatToe\"], #67\n",
    "         [\"L_PostFoot\", \"L_Toe\"], [\"L_PostFoot\", \"L_DistShank\"], [\"L_LatToe\", \"L_Toe\"], [\"L_Toe\", \"L_MedToe\"], #71\n",
    "         [\"L_MedToe\", \"L_DistHeel\"]]  #72\n",
    "    \n",
    "    \n",
    "    Ranglepair = [[\"R_Hip\", \"D_Trunk\"], [\"R_Hip\", \"R_Knee\"],\n",
    "                 [\"R_Knee\", \"R_Hip\"],[\"R_Knee\", \"R_MidShank\"]]\n",
    "                 \n",
    "    Langlepair = [[\"L_Crest\", \"L_Hip\"], [\"L_Knee\", \"L_Hip\"],\n",
    "                 [\"L_Hip\", \"L_Knee\"],[\"L_MidShank\", \"L_Knee\"]]\n",
    "    \n",
    "\n",
    "    pipe = []\n",
    "    \n",
    "    for pair in pairs:\n",
    "        cylinders = cylinder(pos=name[pair[0]].pos, axis=name[pair[1]].pos - name[pair[0]].pos, color=(vec(1,1,1)+vec.random())/2, radius=4)    \n",
    "        pipe.append(cylinders)\n",
    "\n",
    "   \n",
    "    return ()\n",
    "\n",
    "\n",
    "\n",
    "\n",
    "def jointangle ():\n",
    "    global thetahip, thetaknee\n",
    "    m = 0 \n",
    "    vectors = []\n",
    "    for pair in Ranglepair:\n",
    "        A = name[pair[1]].pos - name[pair[0]].pos\n",
    "        vectors.append(A)\n",
    "        \n",
    "    alphahip = np.arccos(dot(vectors[0],vectors[1])/(mag(vectors[0])*mag(vectors[1])))\n",
    "    thetahip = alphahip\n",
    "    \n",
    "    alphaknee = np.arccos(dot(vectors[2],vectors[3])/(mag(vectors[2])*mag(vectors[3])))\n",
    "    thetaknee = np.pi - alphaknee\n",
    "\n",
    "\n",
    "\n",
    "\n",
    "\n",
    "#     jointvec = []\n",
    "#     for pair in anglepair:\n",
    "#         jointvec.append(name[pair[1]].pos - name[pair[0]].pos)\n",
    "\n",
    "\n",
    "def update ():\n",
    "    m = 0\n",
    "    for pair in pairs:\n",
    "        if name[pair[0]].visible == True:\n",
    "            pipe[m].visible = True\t\n",
    "\n",
    "\n",
    "        else:\n",
    "            pipe[m].visible = False\n",
    "    \n",
    "        pipe[m].pos = name[pair[0]].pos\n",
    "        pipe[m].axis = name[pair[1]].pos - name[pair[0]].pos\n",
    "        m = m + 1\n",
    "            \n",
    "            \n",
    "    \n",
    "    \n",
    "    "
   ]
  },
  {
   "cell_type": "code",
   "execution_count": 18,
   "metadata": {},
   "outputs": [],
   "source": [
    "def makegraph():\n",
    "    global fcurve, fcurve2, g, d, acurve, acurve2\n",
    "    g = graph(width=600, height=150, \n",
    "      title='<b>Force (z)</b>',\n",
    "      xtitle='<i>Time (s)</i>', ytitle='<i>Force (N)<i>', \n",
    "      foreground=color.black, background=color.white, \n",
    "      xmin=1.75,xmax=3.5,  ymin=0)\n",
    "    fcurve = gcurve(color = color.red, label = 'Right') \n",
    "    fcurve2 = gcurve(color = color.blue, label = 'Left')\n",
    "    \n",
    "    d =  graph(width=600, height=150, \n",
    "      title='<b> Right Joint Angle (z)</b>',\n",
    "      xtitle='<i>Time (s)</i>', ytitle='<i>Angle (rad)<i>', \n",
    "      foreground=color.black, background=color.white, \n",
    "      xmin = 1.75, xmax = 3.5, ymin=0)\n",
    "    acurve = gcurve(color = color.red, label = 'Hip')\n",
    "    acurve2 = gcurve(color = color.blue, label = 'knee')\n",
    "        \n",
    "    return ()\n",
    "\n",
    "def updatefgraph(x,y,x1,y1):\n",
    "    fcurve.plot(pos=(x,y))\n",
    "    fcurve2.plot(pos=(x1,y1)) \n",
    "    return ()\n",
    "\n",
    "def updateagraph(x,y, x1,y1):\n",
    "    acurve.plot(pos=(x,y))\n",
    "    acurve2.plot(pos=(x1,y1)) \n",
    "    return ()\n",
    "    "
   ]
  },
  {
   "cell_type": "code",
   "execution_count": null,
   "metadata": {},
   "outputs": [
    {
     "data": {
      "text/html": [
       "<div id=\"glowscript\" class=\"glowscript\"></div>"
      ],
      "text/plain": [
       "<IPython.core.display.HTML object>"
      ]
     },
     "metadata": {},
     "output_type": "display_data"
    },
    {
     "data": {
      "application/javascript": [
       "window.__context = { glowscript_container: $(\"#glowscript\").removeAttr(\"id\")}"
      ],
      "text/plain": [
       "<IPython.core.display.Javascript object>"
      ]
     },
     "metadata": {},
     "output_type": "display_data"
    }
   ],
   "source": [
    "scene=canvas()\n",
    "scene.width = 400\n",
    "scene.height = 400\n",
    "scene.background = color.white\n",
    "\n",
    "if filename == 'clean_cmj.txt':\n",
    "\tscene.title = \"Countermovement Jump \\n\"\n",
    "if filename == 'clean_cut.txt':\n",
    "\tscene.title = \"Cut Task \\n\"\n",
    "if filename == 'clean_prowler.txt':\n",
    "\tscene.title = \"Prowler Push \\n\"\n",
    "\n",
    "x = 500\n",
    "y = 1000\n",
    "z = 1000\n",
    "\n",
    "scene.camera.pos = vector(x, y ,0)\n",
    "\n",
    "running = True\n",
    "def Run(b):\n",
    "    global running\n",
    "    running = not running \n",
    "    if running: \n",
    "        b.text = \"Pause\"\n",
    "    else: \n",
    "        b.text = \"Run\"\n",
    "\n",
    "def rotscene(s):\n",
    "#    rotate(scene.up, angle=s, axis=vector(1,0,0) )\n",
    "    scene.forward = vector(-np.cos(pi/2-s.value),0,-np.cos(s.value))\n",
    "#    stext.text = '{:1.2f}'.format(s.value)\n",
    "\n",
    "button(text=\"Pause\", bind=Run)\n",
    "sl = slider(min=0, max=pi/2, value=0, length=200, bind=rotscene, right=15)\n",
    "\n",
    "# draw axes\n",
    "arrow(pos=vec(0,0,0), axis = vec(500,0,0), color=color.gray(0.5))\n",
    "arrow(pos=vec(0,0,0), axis = vec(0,500,0), color=color.gray(0.5)) ## Transformed z plane\n",
    "arrow(pos=vec(0,0,0), axis = vec(0,0,500), color=color.gray(0.5)) ## Transformed y plane\n",
    "\n",
    "\n",
    "\n",
    "#initialize markers\n",
    "balls = []\n",
    "\n",
    "i = 0\n",
    "for i in range(pos_data.shape[1]-2):\n",
    "    \n",
    "    if i % 3==0:\n",
    "        ball = sphere(pos=vec(pos_data[0,i],pos_data[0,i+2],pos_data[0,i+1]), radius=20, color=(vec(1,1,1)+vec.random())/2 , make_trail = False, visible = True)\n",
    "        balls.append(ball)\n",
    "\n",
    "    i = i +1\n",
    "    \n",
    "  \n",
    "\n",
    "#initialize pipes\n",
    "\n",
    "join() \n",
    "\n",
    "makegraph()\n",
    "\n",
    "jointangle()\n",
    "\n",
    "#initialize forces\n",
    "forces = []\n",
    "\n",
    "force1 = arrow(pos=vector(forcepos[0,0],forcepos[0,2],forcepos[0,1]), axis=1.5*vector(force_data[0,0],force_data[0,2],force_data[0,1]), shaftwidth=50, color=color.red, opacity=0.5,  visible = True)\n",
    "forces.append(force1)\n",
    "\n",
    "force2 = arrow(pos=vector(forcepos2[0,0],forcepos2[0,2],forcepos2[0,1]), axis=1.5*vector(force_data[12,0],force_data[12,2],force_data[12,1]), shaftwidth=50, color=color.blue, opacity=0.5, visible = True)\n",
    "forces.append(force2)\n",
    "\n",
    "\n",
    "\n",
    "rowPaused = 0\n",
    "while True:\n",
    "    rate(100)\n",
    "    if not running: continue\n",
    "    animate(rowPaused)"
   ]
  },
  {
   "cell_type": "code",
   "execution_count": null,
   "metadata": {},
   "outputs": [],
   "source": []
  },
  {
   "cell_type": "code",
   "execution_count": null,
   "metadata": {},
   "outputs": [],
   "source": []
  }
 ],
 "metadata": {
  "kernelspec": {
   "display_name": "Python 3",
   "language": "python",
   "name": "python3"
  },
  "language_info": {
   "codemirror_mode": {
    "name": "ipython",
    "version": 3
   },
   "file_extension": ".py",
   "mimetype": "text/x-python",
   "name": "python",
   "nbconvert_exporter": "python",
   "pygments_lexer": "ipython3",
   "version": "3.6.5"
  }
 },
 "nbformat": 4,
 "nbformat_minor": 2
}
